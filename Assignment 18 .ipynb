{
 "cells": [
  {
   "cell_type": "markdown",
   "id": "6b1ed740-016a-458f-a3e1-81e19ebc8610",
   "metadata": {},
   "source": [
    "### Q1 What is Web scraping? Why is it used? Give three areas whereweb scraping is used to get data."
   ]
  },
  {
   "cell_type": "code",
   "execution_count": 1,
   "id": "64ab15ba-9cf5-45e2-9627-9f71c55ed58c",
   "metadata": {},
   "outputs": [
    {
     "data": {
      "text/plain": [
       "'Web Scraping is the process of using bots to extract content and data from a website.'"
      ]
     },
     "execution_count": 1,
     "metadata": {},
     "output_type": "execute_result"
    }
   ],
   "source": [
    "'''Web Scraping is the process of using bots to extract content and data from a website.'''"
   ]
  },
  {
   "cell_type": "code",
   "execution_count": 1,
   "id": "5da74cad-077c-4630-9213-e79b87e4b73a",
   "metadata": {},
   "outputs": [
    {
     "data": {
      "text/plain": [
       "'Web Scraping is a technique used to collect content and data from the internet. This data is usually saved in a lacal file \\nso that it can be manipulated and analyzed as needed. '"
      ]
     },
     "execution_count": 1,
     "metadata": {},
     "output_type": "execute_result"
    }
   ],
   "source": [
    "'''Web Scraping is a technique used to collect content and data from the internet. This data is usually saved in a lacal file \n",
    "so that it can be manipulated and analyzed as needed. '''"
   ]
  },
  {
   "cell_type": "code",
   "execution_count": 2,
   "id": "41e27dbb-7a38-41e4-b453-ac9e5e3704c8",
   "metadata": {},
   "outputs": [
    {
     "data": {
      "text/plain": [
       "'1.Lead Generation for Marketing, 2.Price Comparison & Compitition Monitoring, 3.E-Commerce'"
      ]
     },
     "execution_count": 2,
     "metadata": {},
     "output_type": "execute_result"
    }
   ],
   "source": [
    "'''1.Lead Generation for Marketing, 2.Price Comparison & Compitition Monitoring, 3.E-Commerce'''"
   ]
  },
  {
   "cell_type": "markdown",
   "id": "b49dab94-0de1-4397-b3a5-c60811db3559",
   "metadata": {},
   "source": [
    "### Q2 What are the different methods used for Web Scraping?"
   ]
  },
  {
   "cell_type": "code",
   "execution_count": 1,
   "id": "1f27bdfd-8664-4117-8981-20318383fb4a",
   "metadata": {},
   "outputs": [
    {
     "data": {
      "text/plain": [
       "'1. HTML Parsing, 2. DOM Parsing, 3. Vertical Aggregation, 4. XPath, 5. Google Sheets'"
      ]
     },
     "execution_count": 1,
     "metadata": {},
     "output_type": "execute_result"
    }
   ],
   "source": [
    "'''1. HTML Parsing, 2. DOM Parsing, 3. Vertical Aggregation, 4. XPath, 5. Google Sheets'''"
   ]
  },
  {
   "cell_type": "markdown",
   "id": "412409fa-16e1-40d1-b120-aa6638e83a56",
   "metadata": {},
   "source": [
    "### Q3 Whatis Beautiful Soup? Why is it used?"
   ]
  },
  {
   "cell_type": "code",
   "execution_count": 3,
   "id": "989d5382-8e2d-4508-a396-a0abfaf1b998",
   "metadata": {},
   "outputs": [
    {
     "data": {
      "text/plain": [
       "'Beautiful Soup isa Python package for parsing HTML and XML documents(including having malformed markup, i.e non-closed\\ntags, so named after tag soup). It creates a parse tree for parsed pages that can bre used to extract data from HTML,which is\\nuseful for web scraping.'"
      ]
     },
     "execution_count": 3,
     "metadata": {},
     "output_type": "execute_result"
    }
   ],
   "source": [
    "'''Beautiful Soup isa Python package for parsing HTML and XML documents(including having malformed markup, i.e non-closed\n",
    "tags, so named after tag soup). It creates a parse tree for parsed pages that can bre used to extract data from HTML,which is\n",
    "useful for web scraping.'''"
   ]
  },
  {
   "cell_type": "markdown",
   "id": "0e4c2f8c-28ab-4241-8939-72b85db5f18a",
   "metadata": {},
   "source": [
    "### Q4 Why is flask used in this Web Scraping project?"
   ]
  },
  {
   "cell_type": "code",
   "execution_count": 4,
   "id": "d5e549c6-d22e-4954-b6ef-8fc64faff587",
   "metadata": {},
   "outputs": [
    {
     "data": {
      "text/plain": [
       "\"Flask is a lightweight framework to build websites. We'll use this to parse our collected data and display it as HTML in \\na new HTML file. The requests module allows us to send http requests to the website we want to scrape.The first line imports\\nthe Flask class and the render_template method from the flask library \""
      ]
     },
     "execution_count": 4,
     "metadata": {},
     "output_type": "execute_result"
    }
   ],
   "source": [
    "'''Flask is a lightweight framework to build websites. We'll use this to parse our collected data and display it as HTML in \n",
    "a new HTML file. The requests module allows us to send http requests to the website we want to scrape.The first line imports\n",
    "the Flask class and the render_template method from the flask library '''"
   ]
  },
  {
   "cell_type": "markdown",
   "id": "b87dba87-0605-4a4f-9dc2-27a7df707758",
   "metadata": {},
   "source": [
    "### Q5 Write the names of AWS services used in this project. Also, explain the use of each service."
   ]
  },
  {
   "cell_type": "code",
   "execution_count": 5,
   "id": "19aac130-4eb2-427f-b772-87e20f69aff8",
   "metadata": {},
   "outputs": [
    {
     "data": {
      "text/plain": [
       "'1.Amazon Elastic Beanstalk-: Elastic Beanstalk is a service for deploying and scaling web applications and services. Upload\\nyour code and Elastic Beanstalk automatically handles the deploymant from capacity provisioning,load balancing, and auto \\nscaling to application health monitoring.'"
      ]
     },
     "execution_count": 5,
     "metadata": {},
     "output_type": "execute_result"
    }
   ],
   "source": [
    "'''1.Amazon Elastic Beanstalk-: Elastic Beanstalk is a service for deploying and scaling web applications and services. Upload\n",
    "your code and Elastic Beanstalk automatically handles the deploymant from capacity provisioning,load balancing, and auto \n",
    "scaling to application health monitoring.'''"
   ]
  },
  {
   "cell_type": "code",
   "execution_count": 6,
   "id": "1706d6f6-adc0-4a42-9a5b-45456fb5e9c6",
   "metadata": {},
   "outputs": [
    {
     "data": {
      "text/plain": [
       "'2.AWS CodePipeline is a continuous delivery service you can use to model, visualize, and  automate the steps required to \\nrelease your software '"
      ]
     },
     "execution_count": 6,
     "metadata": {},
     "output_type": "execute_result"
    }
   ],
   "source": [
    "'''2.AWS CodePipeline is a continuous delivery service you can use to model, visualize, and  automate the steps required to \n",
    "release your software '''"
   ]
  },
  {
   "cell_type": "code",
   "execution_count": null,
   "id": "7625793e-dcf2-45bc-9a19-5115557b7727",
   "metadata": {},
   "outputs": [],
   "source": []
  }
 ],
 "metadata": {
  "kernelspec": {
   "display_name": "Python 3 (ipykernel)",
   "language": "python",
   "name": "python3"
  },
  "language_info": {
   "codemirror_mode": {
    "name": "ipython",
    "version": 3
   },
   "file_extension": ".py",
   "mimetype": "text/x-python",
   "name": "python",
   "nbconvert_exporter": "python",
   "pygments_lexer": "ipython3",
   "version": "3.10.8"
  }
 },
 "nbformat": 4,
 "nbformat_minor": 5
}
